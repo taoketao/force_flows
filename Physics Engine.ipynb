{
 "cells": [
  {
   "cell_type": "markdown",
   "id": "drawn-lawsuit",
   "metadata": {},
   "source": [
    "### a generic physics simulation engine\n",
    "\n",
    "Step 1: make simple simulation working.\n",
    "\n",
    "components: \n",
    "- visual rendering page with different speed controls \n",
    "- handling two kinds of points (fixed-position ie force projecting only and force projecting & force subjected)\n",
    "- application of forces on different sets of points\n",
    "\n",
    "step 1.1: turn point_sets into class\n",
    "\n",
    "Step 2: vectorize operations\n",
    "Step 3: format as database"
   ]
  },
  {
   "cell_type": "code",
   "execution_count": 40,
   "id": "rocky-pattern",
   "metadata": {},
   "outputs": [],
   "source": [
    "import pymunk"
   ]
  },
  {
   "cell_type": "code",
   "execution_count": 19,
   "id": "recorded-thought",
   "metadata": {},
   "outputs": [],
   "source": [
    "# simple simulation stub, unoptimized/etc\n",
    "point_sets = [\\\n",
    "    { 'force_receiving':True,\n",
    "      'force_projecting':True,\n",
    "      'data': [[0,1], [2,3]]},\n",
    "    { 'force_receiving':False,\n",
    "      'force_projecting':True,\n",
    "      'data': [[1,1], [-2,1]]},        \n",
    "    ] # later: make as a class that can be exported as json\n",
    "restructured_point_sets = []\n",
    "for set_ in point_sets:\n",
    "    for data_point in set_['data']:\n",
    "        restructured_point_sets += [\\\n",
    "                (data_point, set_['force_receiving'], \n",
    "                 set_['force_projecting'])]"
   ]
  },
  {
   "cell_type": "code",
   "execution_count": 38,
   "id": "minus-research",
   "metadata": {
    "scrolled": true
   },
   "outputs": [
    {
     "name": "stdout",
     "output_type": "stream",
     "text": [
      "[0, 1] [2, 3] \t [2, 2] \t 2.82 \t [0.7071, 0.7071]\n",
      "[0, 1] [1, 1] \t [1, 0] \t 1.0 \t [1.0, 0.0]\n",
      "[0, 1] [-2, 1] \t [-2, 0] \t 2.0 \t [-1.0, 0.0]\n",
      "[0.8383883476483185, 0.08838834764831842]\n",
      "[2, 3] [0, 1] \t [-2, -2] \t 2.82 \t [-0.7072, -0.7072]\n",
      "[2, 3] [1, 1] \t [-1, -2] \t 2.23 \t [-0.4473, -0.8945]\n",
      "[2, 3] [-2, 1] \t [-4, -2] \t 4.47 \t [-0.8945, -0.4473]\n",
      "[-0.2225524262983058, -0.2896344656232995]\n"
     ]
    }
   ],
   "source": [
    "def same_point(a,b): return a==b\n",
    "def sub(b,a): return [b[0][0]-a[0][0], b[0][1]-a[0][1]] # later: numpy vectorize\n",
    "def eucl(x): return (x[0]**2+x[1]**2)**0.5\n",
    "def normz_vec(vec, dist_fn):\n",
    "    epsilon = 1e-6\n",
    "    dist = dist_fn(vec)\n",
    "    if abs(dist-1)<epsilon: \n",
    "        return vec\n",
    "    return [vec[0]/dist, vec[1]/dist]\n",
    "def Round(x,N=4, base=10): # quick n dirty\n",
    "    if isinstance(x,int): return x\n",
    "    if isinstance(x, list):\n",
    "        return [((xi*base**N)//1)/base**N for xi in x]\n",
    "    if isinstance(x,tuple): # hacky\n",
    "        return tuple([((xi*base**N)//1)/base**N for xi in x])\n",
    "    return ((x*base**N)//1)/base**N\n",
    "def div(x,s): return [xi/s for xi in x]\n",
    "def accum(a,b): return [a[i]+b[i] for i in range(len(a))]\n",
    "def apply_force(vec, factor):\n",
    "    if factor=='inverse_distance_squared':\n",
    "        magn= eucl(vec)\n",
    "        unit_dir_vec = normz_vec(diff_vec, eucl)\n",
    "        return div(unit_dir_vec, magn**2)\n",
    "    raise Exception(NotImplemented)\n",
    "    \n",
    "for point in restructured_point_sets:\n",
    "    if point[1]==False: continue # not force receiving\n",
    "    net_force=[0,0]\n",
    "    points_forces = []\n",
    "    for other_point in restructured_point_sets:\n",
    "        if same_point(point, other_point): \n",
    "            #print(point[0], other_point[0], '**')\n",
    "            continue\n",
    "        else:\n",
    "            #print(point[0], other_point[0] )\n",
    "            pass\n",
    "        diff_vec = sub(other_point, point)\n",
    "        magn = eucl(diff_vec)\n",
    "        unit_dir_vec = normz_vec(diff_vec, eucl)\n",
    "        print(point[0], other_point[0],'\\t', diff_vec, '\\t', Round(magn,2),\\\n",
    "              '\\t', Round(unit_dir_vec))\n",
    "        \n",
    "        force_vec = apply_force(diff_vec, 'inverse_distance_squared')\n",
    "        points_forces += force_vec\n",
    "        net_force = accum(net_force, force_vec)\n",
    "    print(net_force)\n",
    "        \n",
    "      "
   ]
  },
  {
   "cell_type": "markdown",
   "id": "amazing-handy",
   "metadata": {},
   "source": [
    "import pymunk               # Import pymunk..\n",
    "\n",
    "space = pymunk.Space()      # Create a Space which contain the simulation\n",
    "space.gravity = 0,-981      # Set its gravity\n",
    "\n",
    "body = pymunk.Body()        # Create a Body\n",
    "body.position = 50,100      # Set the position of the body\n",
    "\n",
    "poly = pymunk.Poly.create_box(body) # Create a box shape and attach to body\n",
    "poly.mass = 10              # Set the mass on the shape\n",
    "space.add(body, poly)       # Add both body and shape to the simulation\n",
    "\n",
    "print_options = pymunk.SpaceDebugDrawOptions() # For easy printing\n",
    "\n",
    "for _ in range(10):               # Infinite loop simulation\n",
    "    space.step(0.02)        # Step the simulation one step forward\n",
    "    space.debug_draw(print_options) # Print the state of the simulation"
   ]
  }
 ],
 "metadata": {
  "kernelspec": {
   "display_name": "Python 3",
   "language": "python",
   "name": "python3"
  },
  "language_info": {
   "codemirror_mode": {
    "name": "ipython",
    "version": 3
   },
   "file_extension": ".py",
   "mimetype": "text/x-python",
   "name": "python",
   "nbconvert_exporter": "python",
   "pygments_lexer": "ipython3",
   "version": "3.6.5"
  }
 },
 "nbformat": 4,
 "nbformat_minor": 5
}
