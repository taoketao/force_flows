{
 "cells": [
  {
   "cell_type": "markdown",
   "id": "fossil-politics",
   "metadata": {},
   "source": [
    "See README.md\n",
    "python 3.6.5 - using new numpy dot product notation, @"
   ]
  },
  {
   "cell_type": "code",
   "execution_count": 27,
   "id": "unauthorized-immune",
   "metadata": {},
   "outputs": [],
   "source": [
    "import numpy as np # version 1.19.5\n",
    "from numpy import linalg as la"
   ]
  },
  {
   "cell_type": "code",
   "execution_count": 33,
   "id": "fifteen-richards",
   "metadata": {},
   "outputs": [],
   "source": [
    "''' data_params.\n",
    "- number and range of buckets of x values for numerically simulating integration\n",
    "- spattering of points between two functions\n",
    "'''\n",
    "integ_sampler_buckets = np.linspace(-5,5,21) # min, max, inclusive count\n",
    "num_samples = 100 # sample between a min and max and if value is between u and v, check\n",
    "sample_ranges = 5 # +/- 5 for now\n",
    "mode = 'discard'  # @ sampling - discard not-working samples?\n",
    "unit_normalizer = 'Euclidean norm'\n",
    "force_model = 'inverse L2 distance squared'\n"
   ]
  },
  {
   "cell_type": "code",
   "execution_count": 38,
   "id": "canadian-seven",
   "metadata": {},
   "outputs": [],
   "source": [
    "''' Defining the different kinds of sandwiching functions. Motifs:\n",
    "- y=x and y=e^x\n",
    "- y=0 and y=e^x-x\n",
    " '''\n",
    "def F_A(x): return x\n",
    "def F_B(x): return np.exp(x)\n",
    "def F_C(x): return 0\n",
    "def F_D(x): return np.exp(x)-x\n",
    "f1,f2 = F_A, F_B"
   ]
  },
  {
   "cell_type": "code",
   "execution_count": 14,
   "id": "treated-championship",
   "metadata": {
    "collapsed": true
   },
   "outputs": [
    {
     "data": {
      "text/plain": [
       "array([6.73794700e-03, 8.65169520e-03, 1.11089965e-02, 1.42642339e-02,\n",
       "       1.83156389e-02, 2.35177459e-02, 3.01973834e-02, 3.87742078e-02,\n",
       "       4.97870684e-02, 6.39278612e-02, 8.20849986e-02, 1.05399225e-01,\n",
       "       1.35335283e-01, 1.73773943e-01, 2.23130160e-01, 2.86504797e-01,\n",
       "       3.67879441e-01, 4.72366553e-01, 6.06530660e-01, 7.78800783e-01,\n",
       "       1.00000000e+00, 1.28402542e+00, 1.64872127e+00, 2.11700002e+00,\n",
       "       2.71828183e+00, 3.49034296e+00, 4.48168907e+00, 5.75460268e+00,\n",
       "       7.38905610e+00, 9.48773584e+00, 1.21824940e+01, 1.56426319e+01,\n",
       "       2.00855369e+01, 2.57903399e+01, 3.31154520e+01, 4.25210820e+01,\n",
       "       5.45981500e+01, 7.01054123e+01, 9.00171313e+01, 1.15584285e+02,\n",
       "       1.48413159e+02])"
      ]
     },
     "execution_count": 14,
     "metadata": {},
     "output_type": "execute_result"
    }
   ],
   "source": [
    "bounds_min, bounds_max = f1(integ_sampler_buckets), f2(integ_sampler_buckets)\n"
   ]
  },
  {
   "cell_type": "code",
   "execution_count": 39,
   "id": "liked-skating",
   "metadata": {
    "collapsed": true
   },
   "outputs": [
    {
     "name": "stdout",
     "output_type": "stream",
     "text": [
      "[-7. -8.] [-0.65850461 -0.75257669] [-0.00582747 -0.00665997]\n",
      "\n",
      "[-6.5 -7.5] [-0.65493054 -0.75568908] [-0.00664904 -0.00767197]\n",
      "\n",
      "[-6. -7.] [-0.65079137 -0.7592566 ] [-0.00765637 -0.00893243]\n",
      "\n",
      "[-5.5 -6.5] [-0.64594224 -0.76338629] [-0.00890955 -0.01052947]\n",
      "\n",
      "[-5. -6.] [-0.6401844  -0.76822128] [-0.01049483 -0.01259379]\n",
      "\n",
      "[-4.5 -5.5] [-0.63323779 -0.7739573 ] [-0.01253936 -0.01532589]\n",
      "\n",
      "[-4. -5.] [-0.62469505 -0.78086881] [-0.01523646 -0.01904558]\n",
      "\n",
      "[-3.5 -4.5] [-0.61394061 -0.78935222] [-0.01889048 -0.02428776]\n",
      "\n",
      "[-3. -4.] [-0.6 -0.8] [-0.024 -0.032]\n",
      "\n",
      "[-2.5 -3.5] [-0.58123819 -0.81373347] [-0.03141828 -0.04398559]\n",
      "\n",
      "[-2. -3.] [-0.5547002  -0.83205029] [-0.04266925 -0.06400387]\n",
      "\n",
      "[-1.5 -2.5] [-0.51449576 -0.85749293] [-0.06052891 -0.10088152]\n",
      "\n",
      "[-1. -2.] [-0.4472136  -0.89442719] [-0.08944272 -0.17888544]\n",
      "\n",
      "[-0.5 -1.5] [-0.31622777 -0.9486833 ] [-0.12649111 -0.37947332]\n",
      "\n",
      "[ 0. -1.] [ 0. -1.] [ 0. -1.]\n",
      "\n",
      "[ 0.5 -0.5] [ 0.70710678 -0.70710678] [ 1.41421356 -1.41421356]\n",
      "\n",
      "[1. 0.] [1. 0.] [1. 0.]\n",
      "\n",
      "[1.5 0.5] [0.9486833  0.31622777] [0.37947332 0.12649111]\n",
      "\n",
      "[2. 1.] [0.89442719 0.4472136 ] [0.17888544 0.08944272]\n",
      "\n",
      "[2.5 1.5] [0.85749293 0.51449576] [0.10088152 0.06052891]\n",
      "\n",
      "[3. 2.] [0.83205029 0.5547002 ] [0.06400387 0.04266925]\n",
      "\n"
     ]
    }
   ],
   "source": [
    "# for now just look at one point\n",
    "point = p0,p1 = 2,3\n",
    "p = np.array(point)\n",
    "for i,j in zip(integ_sampler_buckets, F_A(integ_sampler_buckets)):\n",
    "    query_point = q0,q1 = i,j\n",
    "    q = np.array(query_point)\n",
    "    vector = q-p\n",
    "    normalized_vector=None\n",
    "    if unit_normalizer=='Euclidean norm':\n",
    "        vector_length = la.norm(vector,2)\n",
    "        normalized_vector = vector/vector_length\n",
    "    if force_model == 'inverse L2 distance squared':\n",
    "        force_contribution_vector = normalized_vector / np.square(la.norm(vector,2))\n",
    "    print(vector, normalized_vector, force_contribution_vector)\n",
    "    if input(): break"
   ]
  }
 ],
 "metadata": {
  "kernelspec": {
   "display_name": "Python 3",
   "language": "python",
   "name": "python3"
  },
  "language_info": {
   "codemirror_mode": {
    "name": "ipython",
    "version": 3
   },
   "file_extension": ".py",
   "mimetype": "text/x-python",
   "name": "python",
   "nbconvert_exporter": "python",
   "pygments_lexer": "ipython3",
   "version": "3.6.5"
  }
 },
 "nbformat": 4,
 "nbformat_minor": 5
}
